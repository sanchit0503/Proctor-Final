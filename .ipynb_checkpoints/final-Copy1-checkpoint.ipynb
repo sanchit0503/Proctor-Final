{
 "cells": [
  {
   "cell_type": "code",
   "execution_count": 1,
   "id": "ebeb233f",
   "metadata": {},
   "outputs": [],
   "source": [
    "import warnings\n",
    "warnings.filterwarnings('ignore')"
   ]
  },
  {
   "cell_type": "code",
   "execution_count": 2,
   "id": "1e92ef66",
   "metadata": {},
   "outputs": [],
   "source": [
    "import shutil\n",
    "import os"
   ]
  },
  {
   "cell_type": "code",
   "execution_count": 3,
   "id": "10290558",
   "metadata": {},
   "outputs": [],
   "source": [
    "def filter_frame(old_folder,new_folder,frame):\n",
    "    frame_name = \"Frame_{}.jpg\".format(frame)\n",
    "    \n",
    "    frame_path = os.path.join(old_folder,frame_name)\n",
    "    shutil.copy(frame_path,new_folder)\n",
    "    print(\"Frame Saved at {}\".format(os.path.join(new_folder,frame_name)))"
   ]
  },
  {
   "cell_type": "markdown",
   "id": "c58bd097",
   "metadata": {},
   "source": [
    "## Video to Text "
   ]
  },
  {
   "cell_type": "code",
   "execution_count": 4,
   "id": "dea69c67",
   "metadata": {},
   "outputs": [],
   "source": [
    "from video_to_text import video_to_text"
   ]
  },
  {
   "cell_type": "code",
   "execution_count": 5,
   "id": "aebd8647",
   "metadata": {},
   "outputs": [],
   "source": [
    "import time"
   ]
  },
  {
   "cell_type": "code",
   "execution_count": 6,
   "id": "2cf9f57e",
   "metadata": {},
   "outputs": [],
   "source": [
    "videopath = \"https://feed-resources-dev.s3.ap-south-1.amazonaws.com/temp/WIN_20211118_17_49_03_Pro.mp4\""
   ]
  },
  {
   "cell_type": "code",
   "execution_count": 7,
   "id": "019a1506",
   "metadata": {},
   "outputs": [],
   "source": [
    "video_folder = videopath.split('/')[-1].split(\".\")[0]"
   ]
  },
  {
   "cell_type": "code",
   "execution_count": 8,
   "id": "70193828",
   "metadata": {},
   "outputs": [],
   "source": [
    "video_folder_path = os.path.join(os.getcwd(), video_folder)"
   ]
  },
  {
   "cell_type": "code",
   "execution_count": 9,
   "id": "cf996c77",
   "metadata": {},
   "outputs": [
    {
     "name": "stdout",
     "output_type": "stream",
     "text": [
      "C:\\Users\\lenovo\\Documents\\Ai Proctor Integration Version 4\\WIN_20211118_17_49_03_Pro\n"
     ]
    }
   ],
   "source": [
    "print(video_folder_path)"
   ]
  },
  {
   "cell_type": "code",
   "execution_count": 10,
   "id": "54a6d071",
   "metadata": {},
   "outputs": [
    {
     "name": "stdout",
     "output_type": "stream",
     "text": [
      "Path already exists\n"
     ]
    }
   ],
   "source": [
    "try:\n",
    "    os.mkdir(video_folder)\n",
    "except:\n",
    "    print(\"Path already exists\")"
   ]
  },
  {
   "cell_type": "code",
   "execution_count": 11,
   "id": "e3ca0db3",
   "metadata": {},
   "outputs": [
    {
     "name": "stdout",
     "output_type": "stream",
     "text": [
      "MoviePy - Writing audio in C:\\Users\\lenovo\\Documents\\Ai Proctor Integration Version 4\\WIN_20211118_17_49_03_Pro\\audio.wav\n"
     ]
    },
    {
     "name": "stderr",
     "output_type": "stream",
     "text": [
      "                                                                    \r"
     ]
    },
    {
     "name": "stdout",
     "output_type": "stream",
     "text": [
      "MoviePy - Done.\n",
      "Converted the video successfully to audio\n",
      "exporting 0.wav\n",
      "exporting 1.wav\n",
      "exporting 2.wav\n",
      "Successfully Converted the audio to chunks\n",
      "Text file saved successfully\n"
     ]
    }
   ],
   "source": [
    "video_to_text(videopath,video_folder_path)"
   ]
  },
  {
   "cell_type": "markdown",
   "id": "d1734325",
   "metadata": {},
   "source": [
    "## Face Matching "
   ]
  },
  {
   "cell_type": "code",
   "execution_count": 12,
   "id": "5de46090",
   "metadata": {},
   "outputs": [
    {
     "name": "stderr",
     "output_type": "stream",
     "text": [
      "Using cache found in C:\\Users\\lenovo/.cache\\torch\\hub\\ultralytics_yolov5_master\n",
      "YOLOv5  2021-11-11 torch 1.10.0+cpu CPU\n",
      "\n",
      "Fusing layers... \n",
      "Model Summary: 290 layers, 21172173 parameters, 0 gradients\n",
      "Adding AutoShape... \n"
     ]
    },
    {
     "ename": "KeyboardInterrupt",
     "evalue": "",
     "output_type": "error",
     "traceback": [
      "\u001b[1;31m---------------------------------------------------------------------------\u001b[0m",
      "\u001b[1;31mKeyboardInterrupt\u001b[0m                         Traceback (most recent call last)",
      "\u001b[1;32m~\\AppData\\Local\\Temp/ipykernel_4536/2769216298.py\u001b[0m in \u001b[0;36m<module>\u001b[1;34m\u001b[0m\n\u001b[1;32m----> 1\u001b[1;33m \u001b[1;32mfrom\u001b[0m \u001b[0mvideo_analysis\u001b[0m \u001b[1;32mimport\u001b[0m \u001b[0mface_verification\u001b[0m\u001b[1;33m\u001b[0m\u001b[1;33m\u001b[0m\u001b[0m\n\u001b[0m",
      "\u001b[1;32m~\\Documents\\Ai Proctor Integration Version 4\\video_analysis.py\u001b[0m in \u001b[0;36m<module>\u001b[1;34m\u001b[0m\n\u001b[0;32m      1\u001b[0m \u001b[1;32mfrom\u001b[0m \u001b[0mhead_position\u001b[0m \u001b[1;32mimport\u001b[0m \u001b[0mhead_position\u001b[0m\u001b[1;33m\u001b[0m\u001b[1;33m\u001b[0m\u001b[0m\n\u001b[0;32m      2\u001b[0m \u001b[1;32mfrom\u001b[0m \u001b[0mobject_detection\u001b[0m \u001b[1;32mimport\u001b[0m \u001b[0mdetect_objects\u001b[0m\u001b[1;33m\u001b[0m\u001b[1;33m\u001b[0m\u001b[0m\n\u001b[1;32m----> 3\u001b[1;33m \u001b[1;32mfrom\u001b[0m \u001b[0mliveliness_detector\u001b[0m \u001b[1;32mimport\u001b[0m \u001b[0mdetect_liveliness\u001b[0m\u001b[1;33m\u001b[0m\u001b[1;33m\u001b[0m\u001b[0m\n\u001b[0m\u001b[0;32m      4\u001b[0m \u001b[1;32mfrom\u001b[0m \u001b[0mface_matching\u001b[0m \u001b[1;32mimport\u001b[0m \u001b[0mmatch_faces\u001b[0m\u001b[1;33m\u001b[0m\u001b[1;33m\u001b[0m\u001b[0m\n\u001b[0;32m      5\u001b[0m \u001b[1;32mfrom\u001b[0m \u001b[0meye_movement\u001b[0m \u001b[1;32mimport\u001b[0m \u001b[0mtrack_movement\u001b[0m\u001b[1;33m\u001b[0m\u001b[1;33m\u001b[0m\u001b[0m\n",
      "\u001b[1;32m~\\Documents\\Ai Proctor Integration Version 4\\liveliness_detector.py\u001b[0m in \u001b[0;36m<module>\u001b[1;34m\u001b[0m\n\u001b[0;32m      1\u001b[0m \u001b[1;32mimport\u001b[0m \u001b[0mcv2\u001b[0m\u001b[1;33m\u001b[0m\u001b[1;33m\u001b[0m\u001b[0m\n\u001b[1;32m----> 2\u001b[1;33m \u001b[1;32mfrom\u001b[0m \u001b[0mtensorflow\u001b[0m\u001b[1;33m.\u001b[0m\u001b[0mkeras\u001b[0m\u001b[1;33m.\u001b[0m\u001b[0mpreprocessing\u001b[0m\u001b[1;33m.\u001b[0m\u001b[0mimage\u001b[0m \u001b[1;32mimport\u001b[0m \u001b[0mimg_to_array\u001b[0m\u001b[1;33m\u001b[0m\u001b[1;33m\u001b[0m\u001b[0m\n\u001b[0m\u001b[0;32m      3\u001b[0m \u001b[1;32mimport\u001b[0m \u001b[0mos\u001b[0m\u001b[1;33m\u001b[0m\u001b[1;33m\u001b[0m\u001b[0m\n\u001b[0;32m      4\u001b[0m \u001b[1;32mimport\u001b[0m \u001b[0mnumpy\u001b[0m \u001b[1;32mas\u001b[0m \u001b[0mnp\u001b[0m\u001b[1;33m\u001b[0m\u001b[1;33m\u001b[0m\u001b[0m\n\u001b[0;32m      5\u001b[0m \u001b[1;32mfrom\u001b[0m \u001b[0mtensorflow\u001b[0m\u001b[1;33m.\u001b[0m\u001b[0mkeras\u001b[0m\u001b[1;33m.\u001b[0m\u001b[0mmodels\u001b[0m \u001b[1;32mimport\u001b[0m \u001b[0mmodel_from_json\u001b[0m\u001b[1;33m\u001b[0m\u001b[1;33m\u001b[0m\u001b[0m\n",
      "\u001b[1;32m~\\anaconda3\\lib\\site-packages\\tensorflow\\__init__.py\u001b[0m in \u001b[0;36m<module>\u001b[1;34m\u001b[0m\n\u001b[0;32m     39\u001b[0m \u001b[1;32mimport\u001b[0m \u001b[0msys\u001b[0m \u001b[1;32mas\u001b[0m \u001b[0m_sys\u001b[0m\u001b[1;33m\u001b[0m\u001b[1;33m\u001b[0m\u001b[0m\n\u001b[0;32m     40\u001b[0m \u001b[1;33m\u001b[0m\u001b[0m\n\u001b[1;32m---> 41\u001b[1;33m \u001b[1;32mfrom\u001b[0m \u001b[0mtensorflow\u001b[0m\u001b[1;33m.\u001b[0m\u001b[0mpython\u001b[0m\u001b[1;33m.\u001b[0m\u001b[0mtools\u001b[0m \u001b[1;32mimport\u001b[0m \u001b[0mmodule_util\u001b[0m \u001b[1;32mas\u001b[0m \u001b[0m_module_util\u001b[0m\u001b[1;33m\u001b[0m\u001b[1;33m\u001b[0m\u001b[0m\n\u001b[0m\u001b[0;32m     42\u001b[0m \u001b[1;32mfrom\u001b[0m \u001b[0mtensorflow\u001b[0m\u001b[1;33m.\u001b[0m\u001b[0mpython\u001b[0m\u001b[1;33m.\u001b[0m\u001b[0mutil\u001b[0m\u001b[1;33m.\u001b[0m\u001b[0mlazy_loader\u001b[0m \u001b[1;32mimport\u001b[0m \u001b[0mLazyLoader\u001b[0m \u001b[1;32mas\u001b[0m \u001b[0m_LazyLoader\u001b[0m\u001b[1;33m\u001b[0m\u001b[1;33m\u001b[0m\u001b[0m\n\u001b[0;32m     43\u001b[0m \u001b[1;33m\u001b[0m\u001b[0m\n",
      "\u001b[1;32m~\\anaconda3\\lib\\site-packages\\tensorflow\\python\\__init__.py\u001b[0m in \u001b[0;36m<module>\u001b[1;34m\u001b[0m\n\u001b[0;32m    162\u001b[0m \u001b[1;31m# (This should come after any imports that register APIs.)\u001b[0m\u001b[1;33m\u001b[0m\u001b[1;33m\u001b[0m\u001b[1;33m\u001b[0m\u001b[0m\n\u001b[0;32m    163\u001b[0m \u001b[1;32mfrom\u001b[0m \u001b[0mtensorflow\u001b[0m\u001b[1;33m.\u001b[0m\u001b[0mpython\u001b[0m\u001b[1;33m.\u001b[0m\u001b[0mutil\u001b[0m \u001b[1;32mimport\u001b[0m \u001b[0mdispatch\u001b[0m\u001b[1;33m\u001b[0m\u001b[1;33m\u001b[0m\u001b[0m\n\u001b[1;32m--> 164\u001b[1;33m \u001b[0mdispatch\u001b[0m\u001b[1;33m.\u001b[0m\u001b[0mupdate_docstrings_with_api_lists\u001b[0m\u001b[1;33m(\u001b[0m\u001b[1;33m)\u001b[0m\u001b[1;33m\u001b[0m\u001b[1;33m\u001b[0m\u001b[0m\n\u001b[0m\u001b[0;32m    165\u001b[0m \u001b[1;33m\u001b[0m\u001b[0m\n\u001b[0;32m    166\u001b[0m \u001b[1;31m# Special dunders that we choose to export:\u001b[0m\u001b[1;33m\u001b[0m\u001b[1;33m\u001b[0m\u001b[1;33m\u001b[0m\u001b[0m\n",
      "\u001b[1;32m~\\anaconda3\\lib\\site-packages\\tensorflow\\python\\util\\dispatch.py\u001b[0m in \u001b[0;36mupdate_docstrings_with_api_lists\u001b[1;34m()\u001b[0m\n\u001b[0;32m    998\u001b[0m   _update_docstring_with_api_list(dispatch_for_binary_elementwise_apis,\n\u001b[0;32m    999\u001b[0m                                   _BINARY_ELEMENTWISE_APIS)\n\u001b[1;32m-> 1000\u001b[1;33m   _update_docstring_with_api_list(dispatch_for_api,\n\u001b[0m\u001b[0;32m   1001\u001b[0m                                   _TYPE_BASED_DISPATCH_SIGNATURES)\n\u001b[0;32m   1002\u001b[0m \u001b[1;33m\u001b[0m\u001b[0m\n",
      "\u001b[1;32m~\\anaconda3\\lib\\site-packages\\tensorflow\\python\\util\\dispatch.py\u001b[0m in \u001b[0;36m_update_docstring_with_api_list\u001b[1;34m(target, api_list)\u001b[0m\n\u001b[0;32m   1009\u001b[0m         func, add_prefix_to_v1_names=True)\n\u001b[0;32m   1010\u001b[0m     \u001b[1;32mif\u001b[0m \u001b[0mname\u001b[0m \u001b[1;32mis\u001b[0m \u001b[1;32mnot\u001b[0m \u001b[1;32mNone\u001b[0m\u001b[1;33m:\u001b[0m\u001b[1;33m\u001b[0m\u001b[1;33m\u001b[0m\u001b[0m\n\u001b[1;32m-> 1011\u001b[1;33m       \u001b[0msignature\u001b[0m \u001b[1;33m=\u001b[0m \u001b[0mtf_inspect\u001b[0m\u001b[1;33m.\u001b[0m\u001b[0msignature\u001b[0m\u001b[1;33m(\u001b[0m\u001b[0mfunc\u001b[0m\u001b[1;33m)\u001b[0m\u001b[1;33m\u001b[0m\u001b[1;33m\u001b[0m\u001b[0m\n\u001b[0m\u001b[0;32m   1012\u001b[0m       \u001b[0mlines\u001b[0m\u001b[1;33m.\u001b[0m\u001b[0mappend\u001b[0m\u001b[1;33m(\u001b[0m\u001b[1;34mf\"  * `tf.{name}{signature}`\"\u001b[0m\u001b[1;33m)\u001b[0m\u001b[1;33m\u001b[0m\u001b[1;33m\u001b[0m\u001b[0m\n\u001b[0;32m   1013\u001b[0m   \u001b[0mlines\u001b[0m\u001b[1;33m.\u001b[0m\u001b[0msort\u001b[0m\u001b[1;33m(\u001b[0m\u001b[1;33m)\u001b[0m\u001b[1;33m\u001b[0m\u001b[1;33m\u001b[0m\u001b[0m\n",
      "\u001b[1;32m~\\anaconda3\\lib\\site-packages\\tensorflow\\python\\util\\tf_inspect.py\u001b[0m in \u001b[0;36msignature\u001b[1;34m(obj, follow_wrapped)\u001b[0m\n\u001b[0;32m     33\u001b[0m \u001b[1;32mdef\u001b[0m \u001b[0msignature\u001b[0m\u001b[1;33m(\u001b[0m\u001b[0mobj\u001b[0m\u001b[1;33m,\u001b[0m \u001b[1;33m*\u001b[0m\u001b[1;33m,\u001b[0m \u001b[0mfollow_wrapped\u001b[0m\u001b[1;33m=\u001b[0m\u001b[1;32mTrue\u001b[0m\u001b[1;33m)\u001b[0m\u001b[1;33m:\u001b[0m\u001b[1;33m\u001b[0m\u001b[1;33m\u001b[0m\u001b[0m\n\u001b[0;32m     34\u001b[0m   \u001b[1;34m\"\"\"TFDecorator-aware replacement for inspect.signature.\"\"\"\u001b[0m\u001b[1;33m\u001b[0m\u001b[1;33m\u001b[0m\u001b[0m\n\u001b[1;32m---> 35\u001b[1;33m   return _inspect.signature(\n\u001b[0m\u001b[0;32m     36\u001b[0m       tf_decorator.unwrap(obj)[1], follow_wrapped=follow_wrapped)\n\u001b[0;32m     37\u001b[0m \u001b[1;33m\u001b[0m\u001b[0m\n",
      "\u001b[1;32m~\\anaconda3\\lib\\inspect.py\u001b[0m in \u001b[0;36msignature\u001b[1;34m(obj, follow_wrapped)\u001b[0m\n\u001b[0;32m   3103\u001b[0m \u001b[1;32mdef\u001b[0m \u001b[0msignature\u001b[0m\u001b[1;33m(\u001b[0m\u001b[0mobj\u001b[0m\u001b[1;33m,\u001b[0m \u001b[1;33m*\u001b[0m\u001b[1;33m,\u001b[0m \u001b[0mfollow_wrapped\u001b[0m\u001b[1;33m=\u001b[0m\u001b[1;32mTrue\u001b[0m\u001b[1;33m)\u001b[0m\u001b[1;33m:\u001b[0m\u001b[1;33m\u001b[0m\u001b[1;33m\u001b[0m\u001b[0m\n\u001b[0;32m   3104\u001b[0m     \u001b[1;34m\"\"\"Get a signature object for the passed callable.\"\"\"\u001b[0m\u001b[1;33m\u001b[0m\u001b[1;33m\u001b[0m\u001b[0m\n\u001b[1;32m-> 3105\u001b[1;33m     \u001b[1;32mreturn\u001b[0m \u001b[0mSignature\u001b[0m\u001b[1;33m.\u001b[0m\u001b[0mfrom_callable\u001b[0m\u001b[1;33m(\u001b[0m\u001b[0mobj\u001b[0m\u001b[1;33m,\u001b[0m \u001b[0mfollow_wrapped\u001b[0m\u001b[1;33m=\u001b[0m\u001b[0mfollow_wrapped\u001b[0m\u001b[1;33m)\u001b[0m\u001b[1;33m\u001b[0m\u001b[1;33m\u001b[0m\u001b[0m\n\u001b[0m\u001b[0;32m   3106\u001b[0m \u001b[1;33m\u001b[0m\u001b[0m\n\u001b[0;32m   3107\u001b[0m \u001b[1;33m\u001b[0m\u001b[0m\n",
      "\u001b[1;32m~\\anaconda3\\lib\\inspect.py\u001b[0m in \u001b[0;36mfrom_callable\u001b[1;34m(cls, obj, follow_wrapped)\u001b[0m\n\u001b[0;32m   2852\u001b[0m     \u001b[1;32mdef\u001b[0m \u001b[0mfrom_callable\u001b[0m\u001b[1;33m(\u001b[0m\u001b[0mcls\u001b[0m\u001b[1;33m,\u001b[0m \u001b[0mobj\u001b[0m\u001b[1;33m,\u001b[0m \u001b[1;33m*\u001b[0m\u001b[1;33m,\u001b[0m \u001b[0mfollow_wrapped\u001b[0m\u001b[1;33m=\u001b[0m\u001b[1;32mTrue\u001b[0m\u001b[1;33m)\u001b[0m\u001b[1;33m:\u001b[0m\u001b[1;33m\u001b[0m\u001b[1;33m\u001b[0m\u001b[0m\n\u001b[0;32m   2853\u001b[0m         \u001b[1;34m\"\"\"Constructs Signature for the given callable object.\"\"\"\u001b[0m\u001b[1;33m\u001b[0m\u001b[1;33m\u001b[0m\u001b[0m\n\u001b[1;32m-> 2854\u001b[1;33m         return _signature_from_callable(obj, sigcls=cls,\n\u001b[0m\u001b[0;32m   2855\u001b[0m                                         follow_wrapper_chains=follow_wrapped)\n\u001b[0;32m   2856\u001b[0m \u001b[1;33m\u001b[0m\u001b[0m\n",
      "\u001b[1;32m~\\anaconda3\\lib\\inspect.py\u001b[0m in \u001b[0;36m_signature_from_callable\u001b[1;34m(obj, follow_wrapper_chains, skip_bound_arg, sigcls)\u001b[0m\n\u001b[0;32m   2299\u001b[0m                 \u001b[1;32mreturn\u001b[0m \u001b[0msig\u001b[0m\u001b[1;33m.\u001b[0m\u001b[0mreplace\u001b[0m\u001b[1;33m(\u001b[0m\u001b[0mparameters\u001b[0m\u001b[1;33m=\u001b[0m\u001b[0mnew_params\u001b[0m\u001b[1;33m)\u001b[0m\u001b[1;33m\u001b[0m\u001b[1;33m\u001b[0m\u001b[0m\n\u001b[0;32m   2300\u001b[0m \u001b[1;33m\u001b[0m\u001b[0m\n\u001b[1;32m-> 2301\u001b[1;33m     \u001b[1;32mif\u001b[0m \u001b[0misfunction\u001b[0m\u001b[1;33m(\u001b[0m\u001b[0mobj\u001b[0m\u001b[1;33m)\u001b[0m \u001b[1;32mor\u001b[0m \u001b[0m_signature_is_functionlike\u001b[0m\u001b[1;33m(\u001b[0m\u001b[0mobj\u001b[0m\u001b[1;33m)\u001b[0m\u001b[1;33m:\u001b[0m\u001b[1;33m\u001b[0m\u001b[1;33m\u001b[0m\u001b[0m\n\u001b[0m\u001b[0;32m   2302\u001b[0m         \u001b[1;31m# If it's a pure Python function, or an object that is duck type\u001b[0m\u001b[1;33m\u001b[0m\u001b[1;33m\u001b[0m\u001b[1;33m\u001b[0m\u001b[0m\n\u001b[0;32m   2303\u001b[0m         \u001b[1;31m# of a Python function (Cython functions, for instance), then:\u001b[0m\u001b[1;33m\u001b[0m\u001b[1;33m\u001b[0m\u001b[1;33m\u001b[0m\u001b[0m\n",
      "\u001b[1;32m~\\anaconda3\\lib\\inspect.py\u001b[0m in \u001b[0;36misfunction\u001b[1;34m(object)\u001b[0m\n\u001b[0;32m    167\u001b[0m         \u001b[0m__annotations__\u001b[0m \u001b[0mdict\u001b[0m \u001b[0mof\u001b[0m \u001b[0mparameter\u001b[0m \u001b[0mannotations\u001b[0m\u001b[1;33m\u001b[0m\u001b[1;33m\u001b[0m\u001b[0m\n\u001b[0;32m    168\u001b[0m         __kwdefaults__  dict of keyword only parameters with defaults\"\"\"\n\u001b[1;32m--> 169\u001b[1;33m     \u001b[1;32mreturn\u001b[0m \u001b[0misinstance\u001b[0m\u001b[1;33m(\u001b[0m\u001b[0mobject\u001b[0m\u001b[1;33m,\u001b[0m \u001b[0mtypes\u001b[0m\u001b[1;33m.\u001b[0m\u001b[0mFunctionType\u001b[0m\u001b[1;33m)\u001b[0m\u001b[1;33m\u001b[0m\u001b[1;33m\u001b[0m\u001b[0m\n\u001b[0m\u001b[0;32m    170\u001b[0m \u001b[1;33m\u001b[0m\u001b[0m\n\u001b[0;32m    171\u001b[0m \u001b[1;32mdef\u001b[0m \u001b[0m_has_code_flag\u001b[0m\u001b[1;33m(\u001b[0m\u001b[0mf\u001b[0m\u001b[1;33m,\u001b[0m \u001b[0mflag\u001b[0m\u001b[1;33m)\u001b[0m\u001b[1;33m:\u001b[0m\u001b[1;33m\u001b[0m\u001b[1;33m\u001b[0m\u001b[0m\n",
      "\u001b[1;31mKeyboardInterrupt\u001b[0m: "
     ]
    }
   ],
   "source": [
    "from video_analysis import face_verification"
   ]
  },
  {
   "cell_type": "code",
   "execution_count": null,
   "id": "8c9880d0",
   "metadata": {},
   "outputs": [],
   "source": [
    "face_img = './sanchit.jpg'\n",
    "check_rate = 10\n",
    "filepath = \"./face_ver.csv\"\n",
    "frames_path =\"./Saved Frames/\""
   ]
  },
  {
   "cell_type": "code",
   "execution_count": null,
   "id": "ba29ff17",
   "metadata": {},
   "outputs": [],
   "source": [
    "face_verification(face_img,videopath,frames_path,filepath,check_rate)"
   ]
  },
  {
   "cell_type": "markdown",
   "id": "8b1d6aab",
   "metadata": {},
   "source": [
    "## Video Analysis "
   ]
  },
  {
   "cell_type": "code",
   "execution_count": null,
   "id": "ed4ec63c",
   "metadata": {},
   "outputs": [],
   "source": [
    "from video_analysis import video_analysis"
   ]
  },
  {
   "cell_type": "code",
   "execution_count": null,
   "id": "23e328cf",
   "metadata": {},
   "outputs": [],
   "source": [
    "filepath = \"video_info.csv\"\n",
    "check_rate = 1"
   ]
  },
  {
   "cell_type": "code",
   "execution_count": null,
   "id": "20040a9d",
   "metadata": {},
   "outputs": [],
   "source": [
    "video_analysis(videopath,frames_path,filepath,check_rate)"
   ]
  },
  {
   "cell_type": "markdown",
   "id": "7cc8bc52",
   "metadata": {},
   "source": [
    "## Analysis "
   ]
  },
  {
   "cell_type": "markdown",
   "id": "a6536cb8",
   "metadata": {},
   "source": [
    "### Saving the Suspected text in a different file "
   ]
  },
  {
   "cell_type": "code",
   "execution_count": null,
   "id": "5dd6572c",
   "metadata": {},
   "outputs": [],
   "source": [
    "kw = ['hi', 'hello' ,'question','answer','konsa','batade','bol','kya keh raha hai','thik se bata','how','what','first','second','last','solution',\n",
    "    'please repeat','which question' , 'bata na' , 'bata','kya','jaldi','thik','ek','acha']"
   ]
  },
  {
   "cell_type": "code",
   "execution_count": null,
   "id": "19586e41",
   "metadata": {},
   "outputs": [],
   "source": [
    "sentences = []\n",
    "\n",
    "with open(text_filepath,'r') as f:\n",
    "    sentences = f.readlines()"
   ]
  },
  {
   "cell_type": "code",
   "execution_count": null,
   "id": "7622515c",
   "metadata": {},
   "outputs": [],
   "source": [
    "suspected_text_filepath = \"suspected.txt\""
   ]
  },
  {
   "cell_type": "code",
   "execution_count": null,
   "id": "45ef704f",
   "metadata": {},
   "outputs": [],
   "source": [
    "for s in sentences:\n",
    "    for k in kw:\n",
    "        if k in s.lower().strip().split():\n",
    "            with open(suspected_text_filepath,'a') as f:\n",
    "                \n",
    "                f.write(s)\n",
    "                f.write(\"\\n\")\n",
    "            print(s)\n",
    "            print()\n",
    "            break"
   ]
  },
  {
   "cell_type": "code",
   "execution_count": null,
   "id": "4573f7dc",
   "metadata": {},
   "outputs": [],
   "source": [
    "import pandas as pd"
   ]
  },
  {
   "cell_type": "code",
   "execution_count": null,
   "id": "8dd54c8a",
   "metadata": {},
   "outputs": [],
   "source": [
    "df = pd.read_csv(filepath)"
   ]
  },
  {
   "cell_type": "code",
   "execution_count": null,
   "id": "f4c35072",
   "metadata": {},
   "outputs": [],
   "source": [
    "df.head()"
   ]
  },
  {
   "cell_type": "code",
   "execution_count": null,
   "id": "2cc3548a",
   "metadata": {},
   "outputs": [],
   "source": [
    "df['Head Position'].value_counts()"
   ]
  },
  {
   "cell_type": "code",
   "execution_count": null,
   "id": "348f0951",
   "metadata": {},
   "outputs": [],
   "source": [
    "## function to find the ratio of a particular value in a particular column"
   ]
  },
  {
   "cell_type": "code",
   "execution_count": null,
   "id": "e1fe7863",
   "metadata": {},
   "outputs": [],
   "source": [
    "def get_val_ratio(col,val):\n",
    "    c = 0\n",
    "    for row in col:\n",
    "        if val in row:\n",
    "            c += 1\n",
    "            \n",
    "    return round(c/len(col),2)"
   ]
  },
  {
   "cell_type": "markdown",
   "id": "ad09991b",
   "metadata": {},
   "source": [
    "## Head Movement "
   ]
  },
  {
   "cell_type": "code",
   "execution_count": null,
   "id": "e0ae3ea5",
   "metadata": {},
   "outputs": [],
   "source": [
    "get_val_ratio(df['Head Position'],'Right')"
   ]
  },
  {
   "cell_type": "code",
   "execution_count": null,
   "id": "a0d51622",
   "metadata": {},
   "outputs": [],
   "source": [
    "get_val_ratio(df['Head Position'],'Left')"
   ]
  },
  {
   "cell_type": "code",
   "execution_count": null,
   "id": "97d4c84b",
   "metadata": {},
   "outputs": [],
   "source": [
    "get_val_ratio(df['Head Position'],'Down')"
   ]
  },
  {
   "cell_type": "markdown",
   "id": "effe465f",
   "metadata": {},
   "source": [
    "## Eye Movement "
   ]
  },
  {
   "cell_type": "code",
   "execution_count": null,
   "id": "4038f8b4",
   "metadata": {},
   "outputs": [],
   "source": [
    "os.mkdir(\"Suspected Eye Movement\")"
   ]
  },
  {
   "cell_type": "code",
   "execution_count": null,
   "id": "ed1a915c",
   "metadata": {},
   "outputs": [],
   "source": []
  },
  {
   "cell_type": "code",
   "execution_count": null,
   "id": "b32563eb",
   "metadata": {},
   "outputs": [],
   "source": [
    "df['Eye Movement'].value_counts()"
   ]
  },
  {
   "cell_type": "code",
   "execution_count": null,
   "id": "476124ea",
   "metadata": {},
   "outputs": [],
   "source": [
    "for f in df.loc[df['Eye Movement'].apply(lambda x: \"left\" in x)]['frame']:\n",
    "    filter_frame(\"Saved Frames\",\"Suspected Eye Movement\",f)"
   ]
  },
  {
   "cell_type": "code",
   "execution_count": null,
   "id": "1a270243",
   "metadata": {},
   "outputs": [],
   "source": [
    "for f in df.loc[df['Eye Movement'].apply(lambda x: \"right\" in x)]['frame']:\n",
    "    filter_frame(\"Saved Frames\",\"Suspected Eye Movement\",f)"
   ]
  },
  {
   "cell_type": "code",
   "execution_count": null,
   "id": "76efe902",
   "metadata": {},
   "outputs": [],
   "source": [
    "get_val_ratio(df['Eye Movement'],'Eye Looking left')"
   ]
  },
  {
   "cell_type": "code",
   "execution_count": null,
   "id": "bce1f8ee",
   "metadata": {},
   "outputs": [],
   "source": [
    "get_val_ratio(df['Eye Movement'],'Eye Looking right')"
   ]
  },
  {
   "cell_type": "code",
   "execution_count": null,
   "id": "2c9f76d9",
   "metadata": {},
   "outputs": [],
   "source": [
    "get_val_ratio(df['Eye Movement'],'Eye Looking Downward')"
   ]
  },
  {
   "cell_type": "markdown",
   "id": "08985531",
   "metadata": {},
   "source": [
    "## Object Detection "
   ]
  },
  {
   "cell_type": "code",
   "execution_count": null,
   "id": "aa56641a",
   "metadata": {},
   "outputs": [],
   "source": [
    "df['Objects'].value_counts()"
   ]
  },
  {
   "cell_type": "code",
   "execution_count": null,
   "id": "99410665",
   "metadata": {},
   "outputs": [],
   "source": []
  },
  {
   "cell_type": "code",
   "execution_count": null,
   "id": "060e8470",
   "metadata": {},
   "outputs": [],
   "source": [
    "get_val_ratio(df['Objects'],'person')"
   ]
  },
  {
   "cell_type": "markdown",
   "id": "bb24f9a9",
   "metadata": {},
   "source": [
    "### To check for presence of cell phone in video "
   ]
  },
  {
   "cell_type": "code",
   "execution_count": null,
   "id": "a423810f",
   "metadata": {},
   "outputs": [],
   "source": [
    "os.mkdir(\"Presence of Phone\")"
   ]
  },
  {
   "cell_type": "code",
   "execution_count": null,
   "id": "38db4793",
   "metadata": {},
   "outputs": [],
   "source": [
    "get_val_ratio(df['Objects'],'cell phone')"
   ]
  },
  {
   "cell_type": "code",
   "execution_count": null,
   "id": "3e2e184c",
   "metadata": {},
   "outputs": [],
   "source": [
    "for i in df.loc[df['Objects'].apply(lambda x: \"cell phone\" in x)]['frame']:\n",
    "    filter_frame(\"Saved Frames\",\"Presence of Phone\",i)"
   ]
  },
  {
   "cell_type": "markdown",
   "id": "44d80681",
   "metadata": {},
   "source": [
    "### No person "
   ]
  },
  {
   "cell_type": "code",
   "execution_count": null,
   "id": "439a556a",
   "metadata": {},
   "outputs": [],
   "source": [
    "os.mkdir(\"No Person\")"
   ]
  },
  {
   "cell_type": "code",
   "execution_count": null,
   "id": "2f240fa0",
   "metadata": {},
   "outputs": [],
   "source": [
    "for i in df.loc[df['Objects'].apply(lambda x: \"person\" not in x)]['frame']:\n",
    "    filter_frame(\"Saved Frames\",\"No Person\",i)"
   ]
  },
  {
   "cell_type": "markdown",
   "id": "c396c81f",
   "metadata": {},
   "source": [
    "### More than One Person "
   ]
  },
  {
   "cell_type": "code",
   "execution_count": null,
   "id": "c3402025",
   "metadata": {},
   "outputs": [],
   "source": [
    "os.mkdir(\"./More People\")"
   ]
  },
  {
   "cell_type": "code",
   "execution_count": null,
   "id": "ee066e68",
   "metadata": {},
   "outputs": [],
   "source": [
    "frames = df.loc[df['Objects'].apply(lambda x: x.count('person')>1)]['frame']"
   ]
  },
  {
   "cell_type": "code",
   "execution_count": null,
   "id": "b49a0709",
   "metadata": {},
   "outputs": [],
   "source": [
    "frames"
   ]
  },
  {
   "cell_type": "code",
   "execution_count": null,
   "id": "d540291e",
   "metadata": {},
   "outputs": [],
   "source": [
    "for f in frames:\n",
    "    filter_frame(\"./Saved Frames/\",\"./More People\",f)"
   ]
  },
  {
   "cell_type": "code",
   "execution_count": null,
   "id": "319b1a11",
   "metadata": {},
   "outputs": [],
   "source": []
  }
 ],
 "metadata": {
  "kernelspec": {
   "display_name": "Python 3 (ipykernel)",
   "language": "python",
   "name": "python3"
  },
  "language_info": {
   "codemirror_mode": {
    "name": "ipython",
    "version": 3
   },
   "file_extension": ".py",
   "mimetype": "text/x-python",
   "name": "python",
   "nbconvert_exporter": "python",
   "pygments_lexer": "ipython3",
   "version": "3.8.8"
  }
 },
 "nbformat": 4,
 "nbformat_minor": 5
}
