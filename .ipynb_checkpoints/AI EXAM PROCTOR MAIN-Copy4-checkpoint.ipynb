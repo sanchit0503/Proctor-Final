{
 "cells": [
  {
   "cell_type": "code",
   "execution_count": 1,
   "id": "b47d6ba1",
   "metadata": {},
   "outputs": [],
   "source": [
    "import warnings\n",
    "warnings.filterwarnings('ignore')"
   ]
  },
  {
   "cell_type": "code",
   "execution_count": 2,
   "id": "ff066843",
   "metadata": {},
   "outputs": [],
   "source": [
    "import numpy as np"
   ]
  },
  {
   "cell_type": "code",
   "execution_count": 3,
   "id": "384c6b5f",
   "metadata": {},
   "outputs": [
    {
     "name": "stderr",
     "output_type": "stream",
     "text": [
      "Using cache found in C:\\Users\\lenovo/.cache\\torch\\hub\\ultralytics_yolov5_master\n",
      "YOLOv5  2021-11-11 torch 1.10.0+cpu CPU\n",
      "\n",
      "Fusing layers... \n",
      "Model Summary: 290 layers, 21172173 parameters, 0 gradients\n",
      "Adding AutoShape... \n"
     ]
    }
   ],
   "source": [
    "from video_analysis import video_analysis, face_verification "
   ]
  },
  {
   "cell_type": "code",
   "execution_count": 8,
   "id": "90ff79a7",
   "metadata": {},
   "outputs": [],
   "source": [
    "from video_to_text import to_text"
   ]
  },
  {
   "cell_type": "code",
   "execution_count": 9,
   "id": "109405a5",
   "metadata": {},
   "outputs": [],
   "source": [
    "videopath = \"stand up comedy.mp4\"\n",
    "imgpath = \"kevin hart.jpg\""
   ]
  },
  {
   "cell_type": "code",
   "execution_count": 10,
   "id": "463f2d29",
   "metadata": {},
   "outputs": [],
   "source": [
    "frames_folder = \"./Saved Frames/\" ##output folder where frames will be saved \n",
    "output_csv_filepath = \"./vid_insights.csv\"\n",
    "output_text_filepath = \"./audio_text.txt\""
   ]
  },
  {
   "cell_type": "code",
   "execution_count": 11,
   "id": "45047b24",
   "metadata": {},
   "outputs": [],
   "source": [
    "check_rate = 1 ## for every 1 second of video, one frame will be checked"
   ]
  },
  {
   "cell_type": "code",
   "execution_count": 12,
   "id": "4642968f",
   "metadata": {},
   "outputs": [],
   "source": [
    "import threading "
   ]
  },
  {
   "cell_type": "code",
   "execution_count": 14,
   "id": "08e7a073",
   "metadata": {},
   "outputs": [],
   "source": [
    "from location import get_location"
   ]
  },
  {
   "cell_type": "markdown",
   "id": "01152aa1",
   "metadata": {},
   "source": [
    "## Accessing Location "
   ]
  },
  {
   "cell_type": "code",
   "execution_count": 15,
   "id": "8b6972ab",
   "metadata": {},
   "outputs": [
    {
     "name": "stdout",
     "output_type": "stream",
     "text": [
      "North Delhi,Delhi\n"
     ]
    }
   ],
   "source": [
    "location = get_location()\n",
    "print(location)"
   ]
  },
  {
   "cell_type": "code",
   "execution_count": 16,
   "id": "e7d205ee",
   "metadata": {},
   "outputs": [],
   "source": [
    "import time"
   ]
  },
  {
   "cell_type": "markdown",
   "id": "b56049fa",
   "metadata": {},
   "source": [
    "## Extracting Audio from video and Converting it to Text "
   ]
  },
  {
   "cell_type": "code",
   "execution_count": null,
   "id": "9c3431dc",
   "metadata": {},
   "outputs": [
    {
     "name": "stdout",
     "output_type": "stream",
     "text": [
      "MoviePy - Writing audio in new.wav\n"
     ]
    },
    {
     "name": "stderr",
     "output_type": "stream",
     "text": [
      "                                                                        \r"
     ]
    },
    {
     "name": "stdout",
     "output_type": "stream",
     "text": [
      "MoviePy - Done.\n",
      "Error: \n",
      "Error: \n",
      "Error: \n",
      "Error: \n",
      "Error: \n",
      "Error: \n",
      "Error: \n",
      "Error: \n",
      "Error: \n",
      "Error: \n",
      "Error: \n",
      "Error: \n",
      "Error: \n",
      "Error: \n",
      "Error: \n",
      "Error: \n",
      "Error: \n",
      "Error: \n",
      "Error: \n",
      "Error: \n",
      "Error: \n",
      "Error: \n",
      "Error: \n",
      "Error: \n",
      "Error: \n",
      "Error: \n",
      "Error: \n",
      "Error: \n",
      "Error: \n",
      "Error: \n",
      "Error: \n",
      "Error: \n",
      "Error: \n",
      "Error: \n",
      "Error: \n",
      "Error: \n",
      "Error: \n",
      "Error: \n",
      "Error: \n",
      "Error: \n",
      "Error: \n",
      "Error: \n",
      "Error: \n",
      "Error: \n",
      "Error: \n",
      "Error: \n",
      "Error: \n",
      "Error: \n",
      "Error: \n",
      "Error: \n",
      "Error: \n",
      "Error: \n",
      "Error: \n",
      "Error: \n",
      "Error: \n",
      "Error: \n",
      "Error: \n",
      "Error: \n",
      "Error: \n"
     ]
    }
   ],
   "source": [
    "start = time.time()\n",
    "\n",
    "to_text(videopath, output_text_filepath)\n",
    "\n",
    "end = time.time()\n",
    "\n",
    "print(f\"Task Finished in {round(end - start)} seconds\")"
   ]
  },
  {
   "cell_type": "code",
   "execution_count": null,
   "id": "37c7ae2e",
   "metadata": {},
   "outputs": [],
   "source": []
  },
  {
   "cell_type": "code",
   "execution_count": null,
   "id": "74a30975",
   "metadata": {},
   "outputs": [],
   "source": [
    "start = time.time()\n",
    "video_analysis(videopath,frames_folder,output_csv_filepath,check_rate)\n",
    "\n",
    "end = time.time()"
   ]
  },
  {
   "cell_type": "code",
   "execution_count": null,
   "id": "a9f18a11",
   "metadata": {},
   "outputs": [],
   "source": [
    "int(end - start)/60"
   ]
  },
  {
   "cell_type": "markdown",
   "id": "7015a298",
   "metadata": {},
   "source": [
    "## Face Verification "
   ]
  },
  {
   "cell_type": "code",
   "execution_count": null,
   "id": "dc47671d",
   "metadata": {},
   "outputs": [],
   "source": [
    "check_rate = 10\n",
    "output_fp = \"./fv.csv\"\n",
    "face_verification(imgpath,videopath,frames_folder,output_fp,check_rate)"
   ]
  },
  {
   "cell_type": "markdown",
   "id": "d15a0d5f",
   "metadata": {},
   "source": [
    "## Analysis "
   ]
  },
  {
   "cell_type": "code",
   "execution_count": null,
   "id": "901cd97f",
   "metadata": {},
   "outputs": [],
   "source": [
    "kw = ['hi', 'hello' ,'question','answer','konsa','batade','bol','kya keh raha hai','thik se bata','how','what','first','second','last','solution',\n",
    "    'please repeat','which question' , 'bata na' , 'bata','kya','jaldi','thik','ek','acha']"
   ]
  },
  {
   "cell_type": "code",
   "execution_count": null,
   "id": "09a4882a",
   "metadata": {},
   "outputs": [],
   "source": [
    "sentences = []\n",
    "\n",
    "with open(output_text_filepath,'r') as f:\n",
    "    sentences = f.readlines()"
   ]
  },
  {
   "cell_type": "code",
   "execution_count": null,
   "id": "9f95ab74",
   "metadata": {},
   "outputs": [],
   "source": [
    "for s in sentences:\n",
    "    for k in kw:\n",
    "        if k in s.lower().strip().split():\n",
    "            print(s,k)\n",
    "            print()\n",
    "            break"
   ]
  },
  {
   "cell_type": "code",
   "execution_count": null,
   "id": "1f8d1e6f",
   "metadata": {},
   "outputs": [],
   "source": [
    "import pandas as pd"
   ]
  },
  {
   "cell_type": "code",
   "execution_count": null,
   "id": "af67f625",
   "metadata": {},
   "outputs": [],
   "source": [
    "df = pd.read_csv(output_csv_filepath)"
   ]
  },
  {
   "cell_type": "code",
   "execution_count": null,
   "id": "41a14ffb",
   "metadata": {},
   "outputs": [],
   "source": [
    "df['Head Position'].value_counts()"
   ]
  },
  {
   "cell_type": "code",
   "execution_count": null,
   "id": "4219d6e3",
   "metadata": {},
   "outputs": [],
   "source": [
    "df.loc[df['Head Position'] == \"['Head Down']\"]"
   ]
  },
  {
   "cell_type": "code",
   "execution_count": null,
   "id": "014e46aa",
   "metadata": {},
   "outputs": [],
   "source": [
    "head_down_frames = df.loc[df['Head Position'] == \"['Head Down']\"]['frame']"
   ]
  },
  {
   "cell_type": "code",
   "execution_count": null,
   "id": "2d5d856b",
   "metadata": {},
   "outputs": [],
   "source": [
    "import matplotlib.pyplot as plt"
   ]
  },
  {
   "cell_type": "code",
   "execution_count": null,
   "id": "9582f397",
   "metadata": {},
   "outputs": [],
   "source": [
    "import os"
   ]
  },
  {
   "cell_type": "code",
   "execution_count": null,
   "id": "4575fd69",
   "metadata": {},
   "outputs": [],
   "source": [
    "from PIL import Image"
   ]
  },
  {
   "cell_type": "code",
   "execution_count": null,
   "id": "aa4aed22",
   "metadata": {},
   "outputs": [],
   "source": [
    "for i in head_down_frames:\n",
    "    frame = os.path.join(frames_folder,\"frame_{}.jpg\".format(i))\n",
    "    img = Image.open(frame)\n",
    "    display(img)"
   ]
  },
  {
   "cell_type": "code",
   "execution_count": null,
   "id": "98d52ef0",
   "metadata": {},
   "outputs": [],
   "source": [
    "head_down_frames"
   ]
  },
  {
   "cell_type": "code",
   "execution_count": null,
   "id": "1c2f6a0c",
   "metadata": {},
   "outputs": [],
   "source": [
    "head_down_timestamps = df.loc[df['Head Position'] == \"['Head Down']\"]['timestamp']"
   ]
  },
  {
   "cell_type": "code",
   "execution_count": null,
   "id": "4693f7df",
   "metadata": {},
   "outputs": [],
   "source": [
    "plt.scatter(head_down_timestamps,np.zeros_like(head_down_timestamps))\n",
    "plt.yticks([])\n",
    "plt.show()"
   ]
  },
  {
   "cell_type": "markdown",
   "id": "80ee1457",
   "metadata": {},
   "source": [
    "## More than one face"
   ]
  },
  {
   "cell_type": "code",
   "execution_count": null,
   "id": "e57e2043",
   "metadata": {},
   "outputs": [],
   "source": [
    "df['Person count'] = df['Objects'].apply(lambda x: x.count('person'))"
   ]
  },
  {
   "cell_type": "code",
   "execution_count": null,
   "id": "19653b0b",
   "metadata": {},
   "outputs": [],
   "source": [
    "more_than_one_face = df.loc[df['Person count']>1]"
   ]
  },
  {
   "cell_type": "code",
   "execution_count": null,
   "id": "8342da84",
   "metadata": {},
   "outputs": [],
   "source": [
    "more_than_one_face"
   ]
  },
  {
   "cell_type": "markdown",
   "id": "aa6f99a6",
   "metadata": {},
   "source": [
    "## Face not matched "
   ]
  },
  {
   "cell_type": "code",
   "execution_count": null,
   "id": "fc105720",
   "metadata": {},
   "outputs": [],
   "source": [
    "df = pd.read_csv(output_fp)"
   ]
  },
  {
   "cell_type": "code",
   "execution_count": null,
   "id": "1b1d21be",
   "metadata": {},
   "outputs": [],
   "source": [
    "df['Face Verification'].value_counts()"
   ]
  },
  {
   "cell_type": "code",
   "execution_count": null,
   "id": "dd33c149",
   "metadata": {},
   "outputs": [],
   "source": [
    "df.loc[df['Face Verification'] == 'FACE NOT MATCHED']"
   ]
  },
  {
   "cell_type": "code",
   "execution_count": null,
   "id": "f1b4070e",
   "metadata": {},
   "outputs": [],
   "source": [
    "ff = df.loc[df['Face Verification'] == 'NO FACE FOUND']['frame']"
   ]
  },
  {
   "cell_type": "code",
   "execution_count": null,
   "id": "0c61a6cc",
   "metadata": {},
   "outputs": [],
   "source": [
    "for i in ff:\n",
    "    frame = os.path.join(frames_folder,\"frame_{}.jpg\".format(i))\n",
    "    img = Image.open(frame)\n",
    "    display(img)"
   ]
  },
  {
   "cell_type": "code",
   "execution_count": null,
   "id": "e96db354",
   "metadata": {},
   "outputs": [],
   "source": []
  }
 ],
 "metadata": {
  "kernelspec": {
   "display_name": "Python 3",
   "language": "python",
   "name": "python3"
  },
  "language_info": {
   "codemirror_mode": {
    "name": "ipython",
    "version": 3
   },
   "file_extension": ".py",
   "mimetype": "text/x-python",
   "name": "python",
   "nbconvert_exporter": "python",
   "pygments_lexer": "ipython3",
   "version": "3.8.8"
  }
 },
 "nbformat": 4,
 "nbformat_minor": 5
}
